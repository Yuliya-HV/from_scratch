{
  "nbformat": 4,
  "nbformat_minor": 0,
  "metadata": {
    "colab": {
      "provenance": []
    },
    "kernelspec": {
      "name": "python3",
      "display_name": "Python 3"
    },
    "language_info": {
      "name": "python"
    }
  },
  "cells": [
    {
      "cell_type": "markdown",
      "source": [
        "# Multilayer perceptron NN with Pytorch"
      ],
      "metadata": {
        "id": "4TfXhVGQwUN2"
      }
    },
    {
      "cell_type": "code",
      "execution_count": 80,
      "metadata": {
        "id": "UvX_lgohMXOf"
      },
      "outputs": [],
      "source": [
        "import math\n",
        "import random\n",
        "import torch"
      ]
    },
    {
      "cell_type": "markdown",
      "source": [
        "Define values with torch"
      ],
      "metadata": {
        "id": "EPQNtfunzH0b"
      }
    },
    {
      "cell_type": "code",
      "source": [
        "x1 = torch.Tensor([1.0]).double()\n",
        "x2 = torch.Tensor([0.0]).double()\n",
        "w1 = torch.Tensor([-1.0]).double()\n",
        "w2 = torch.Tensor([1.0]).double()\n",
        "b = torch.Tensor([10]).double()\n",
        "\n",
        "x1.requires_grad = True\n",
        "x2.requires_grad = True\n",
        "w1.requires_grad = True\n",
        "w2.requires_grad = True\n",
        "b.requires_grad = True\n",
        "\n",
        "# neuron\n",
        "n = x1*w1 + x2*w2 + b\n",
        "# activation\n",
        "o = torch.tanh(n)"
      ],
      "metadata": {
        "id": "RjTZ9rJtMgb6"
      },
      "execution_count": 93,
      "outputs": []
    },
    {
      "cell_type": "markdown",
      "source": [
        "Value class for all basic operations"
      ],
      "metadata": {
        "id": "0E6gMzSPy3ak"
      }
    },
    {
      "cell_type": "code",
      "source": [
        "class Value:\n",
        "\n",
        "  def __init__(self, data, _children=(), _op='', label=''):\n",
        "    self.data = data\n",
        "    self.grad = 0.0\n",
        "    self._backward = lambda: None\n",
        "    self._prev = set(_children)\n",
        "    self._op = _op\n",
        "    self.label = label\n",
        "\n",
        "  def __repr__(self):\n",
        "    return f\"Value(data={self.data})\"\n",
        "\n",
        "  def __rmul__(*self, other):\n",
        "    return self * other\n",
        "\n",
        "  def __truediv__(self, other):\n",
        "    return self * other**-1\n",
        "\n",
        "  def __neg__(self):\n",
        "    return self * -1\n",
        "\n",
        "  def __sub__(self, other):\n",
        "    return self + (-other)\n",
        "\n",
        "  def __radd__(self, other):\n",
        "    return self + other\n",
        "\n",
        "  def __add__(self, other):\n",
        "    other = other if isinstance(other, Value) else Value(other)\n",
        "    out = Value(self.data + other.data, (self, other), '+')\n",
        "\n",
        "    def _backward():\n",
        "      self.grad += 1.0 * out.grad\n",
        "      other.grad += 1.0 * out.grad\n",
        "    out._backward = _backward\n",
        "\n",
        "    return out\n",
        "\n",
        "  def __mul__(self, other):\n",
        "    other = other if isinstance(other, Value) else Value(other)\n",
        "    out = Value(self.data * other.data, (self, other), '*')\n",
        "\n",
        "    def _backward():\n",
        "      self.grad += other.data * out.grad\n",
        "      other.grad += self.data * out.grad\n",
        "    out._backward = _backward\n",
        "\n",
        "    return out\n",
        "\n",
        "  def __pow__(self, other):\n",
        "    assert isinstance(other, (int, float)), \"support int/float power atm\"\n",
        "    out = Value(self.data**other, (self, ), f'**{other}')\n",
        "\n",
        "    def _backward():\n",
        "      self.grad += (other * self.data ** (other - 1)) * out.grad\n",
        "    out._backward = _backward\n",
        "\n",
        "    return out\n",
        "\n",
        "  def tanh(self):\n",
        "    x = self.data\n",
        "    t = (math.exp(2*x) - 1)/(math.exp(2*x) + 1)\n",
        "    out = Value(t, (self, ), 'tanh')\n",
        "\n",
        "    def _backward():\n",
        "      self.grad += (1 - t**2) * out.grad\n",
        "    out._backward = _backward\n",
        "\n",
        "    return out\n",
        "\n",
        "  def exp(self):\n",
        "    x = self.data\n",
        "    out = Value(math.exp(x), (self, ), 'exp')\n",
        "\n",
        "    def _backward():\n",
        "      self.grad += out.data * out.grad\n",
        "    out._backward = _backward\n",
        "\n",
        "    return out\n",
        "\n",
        "  def backward(self):\n",
        "\n",
        "    topo = []\n",
        "    visited = set()\n",
        "\n",
        "    def build_topo(v):\n",
        "      if v not in visited:\n",
        "        visited.add(v)\n",
        "        for child in v._prev:\n",
        "          build_topo(child)\n",
        "        topo.append(v)\n",
        "    build_topo(self)\n",
        "\n",
        "    self.grad = 1.0\n",
        "    for node in reversed(topo):\n",
        "      node._backward()\n",
        "\n"
      ],
      "metadata": {
        "id": "Y386lwMgM7BP"
      },
      "execution_count": 110,
      "outputs": []
    },
    {
      "cell_type": "markdown",
      "source": [
        "Class Neuron for an object x*w + b"
      ],
      "metadata": {
        "id": "ftpF9kp1zb5M"
      }
    },
    {
      "cell_type": "code",
      "source": [
        "\n",
        "class Neuron:\n",
        "\n",
        "  def __init__(self, nin):\n",
        "    self.w = [Value(random.uniform(-1,1)) for _ in range(nin)]\n",
        "    self.b = Value(random.uniform(-1,1))\n",
        "\n",
        "  def __call__(self, x):\n",
        "    act = sum((wi*xi for wi, xi in zip(self.w, x)), self.b)\n",
        "    out = act.tanh()\n",
        "    return out\n",
        "\n",
        "  def params(self):\n",
        "    return self.w + [self.b]\n"
      ],
      "metadata": {
        "id": "TbMr88i8yb7N"
      },
      "execution_count": 117,
      "outputs": []
    },
    {
      "cell_type": "markdown",
      "source": [
        "Class Layer - layer in Neural Network"
      ],
      "metadata": {
        "id": "FTSlrbsfzoI0"
      }
    },
    {
      "cell_type": "code",
      "source": [
        "class Layer:\n",
        "  def __init__(self, nin, nout):\n",
        "    self.neurons = [Neuron(nin) for _ in range(nout)]\n",
        "\n",
        "  def __call__(self, x):\n",
        "    outs = [n(x) for n in self.neurons]\n",
        "    return outs[0] if len(outs) == 1 else outs\n",
        "\n",
        "  def params(self):\n",
        "    return [p for neuron in self.neurons for p in neuron.params()]\n"
      ],
      "metadata": {
        "id": "7n1kQI57zoa2"
      },
      "execution_count": 118,
      "outputs": []
    },
    {
      "cell_type": "markdown",
      "source": [
        "Main class for MLP NN"
      ],
      "metadata": {
        "id": "Aq9osN8i0I5k"
      }
    },
    {
      "cell_type": "code",
      "source": [
        "class MLP:\n",
        "\n",
        "  def __init__(self, nin, nouts):\n",
        "    sz = [nin] + nouts\n",
        "    self.layers = [Layer(sz[i], sz[i+1]) for i in range(len(nouts))]\n",
        "\n",
        "  def __call__(self, x):\n",
        "    for layer in self.layers:\n",
        "      x = layer(x)\n",
        "    return x\n",
        "\n",
        "  def params(self):\n",
        "    return [p for layer in self.layers for p in layer.params()]\n"
      ],
      "metadata": {
        "id": "jClzKLFmygB8"
      },
      "execution_count": 119,
      "outputs": []
    },
    {
      "cell_type": "code",
      "source": [
        "# initialize NN\n",
        "\n",
        "x = [5.0, 8.0, -1.0]\n",
        "n = MLP(3, [3, 4, 1])\n",
        "n(x)"
      ],
      "metadata": {
        "colab": {
          "base_uri": "https://localhost:8080/"
        },
        "id": "e0_KiXnFydlU",
        "outputId": "74a0c764-3941-4cb0-dd35-2d7f73dd07ac"
      },
      "execution_count": 120,
      "outputs": [
        {
          "output_type": "execute_result",
          "data": {
            "text/plain": [
              "Value(data=-0.5771440677905261)"
            ]
          },
          "metadata": {},
          "execution_count": 120
        }
      ]
    },
    {
      "cell_type": "code",
      "source": [
        "# gradient descent\n",
        "\n",
        "# input values\n",
        "xs = [\n",
        "    [2.0, 3.0, -1.0],\n",
        "    [3.0, -1.0, 0.5],\n",
        "    [0.5, 1.0, 1.0],\n",
        "    [1.0, 1.0, -1.0]\n",
        "]\n",
        "\n",
        "# target prediction\n",
        "ys = [1.0, -1.0, -1.0, 1.0]\n",
        "\n",
        "for k in range(20):\n",
        "\n",
        "  # forward pass\n",
        "  ypred = [n(x) for x in xs]\n",
        "  loss = sum((yout - yg)**2 for yg, yout in zip(ys, ypred))\n",
        "\n",
        "  # backward pass\n",
        "  for p in n.params():\n",
        "    p.grad = 0.0\n",
        "  loss.backward()\n",
        "\n",
        "  # update\n",
        "  for p in n.params():\n",
        "    p.data += -0.05 * p.grad\n",
        "\n",
        "  print(k, loss.data)\n"
      ],
      "metadata": {
        "colab": {
          "base_uri": "https://localhost:8080/"
        },
        "id": "xZoondjOSOJO",
        "outputId": "f6267e24-9f03-4b3c-ad3b-9849457efcac"
      },
      "execution_count": 121,
      "outputs": [
        {
          "output_type": "stream",
          "name": "stdout",
          "text": [
            "0 4.586615659430144\n",
            "1 1.6616804193656831\n",
            "2 1.0144258156051902\n",
            "3 0.6586138198536479\n",
            "4 0.47634881884248664\n",
            "5 0.37030342112367143\n",
            "6 0.3006496172583954\n",
            "7 0.25187945046415133\n",
            "8 0.2160684101954755\n",
            "9 0.18877554227578536\n",
            "10 0.1673481916033126\n",
            "11 0.1501157224785843\n",
            "12 0.13597863993597026\n",
            "13 0.12418616609143562\n",
            "14 0.11420940287443909\n",
            "15 0.10566569506094342\n",
            "16 0.09827175112588563\n",
            "17 0.0918135978903587\n",
            "18 0.08612675159869174\n",
            "19 0.08108278952564478\n"
          ]
        }
      ]
    },
    {
      "cell_type": "code",
      "source": [],
      "metadata": {
        "id": "AP3OJRtehSKA"
      },
      "execution_count": 107,
      "outputs": []
    }
  ]
}